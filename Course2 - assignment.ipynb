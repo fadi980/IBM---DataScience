{
 "cells": [
  {
   "cell_type": "markdown",
   "id": "a73cbc33-8157-4a16-8ad5-8ebf41845bc1",
   "metadata": {
    "slideshow": {
     "slide_type": "notes"
    },
    "tags": []
   },
   "source": [
    "<h1> My Jupyter Notebook on IBM Watson Studio </h1>"
   ]
  },
  {
   "cell_type": "markdown",
   "id": "ec41ceb6-658f-4073-abea-95c2272e4f1a",
   "metadata": {
    "tags": []
   },
   "source": [
    "**Fadi Almoussa**\n",
    "<br>Senior Developer"
   ]
  },
  {
   "cell_type": "markdown",
   "id": "e8d4340b-2209-4c17-99b5-69b8263e042d",
   "metadata": {},
   "source": [
    "*I'm interested in data science to help me improve my career*"
   ]
  },
  {
   "cell_type": "markdown",
   "id": "df55f136-0a71-44e9-83db-f23ad9f9550e",
   "metadata": {},
   "source": [
    "<h3>My code is just displaying a text</h3>"
   ]
  },
  {
   "cell_type": "code",
   "execution_count": 4,
   "id": "be3cf31d-733e-43a7-8502-b3671e201904",
   "metadata": {},
   "outputs": [
    {
     "name": "stdout",
     "output_type": "stream",
     "text": [
      "Hello world\n"
     ]
    }
   ],
   "source": [
    "print(\"Hello world\")"
   ]
  },
  {
   "cell_type": "markdown",
   "id": "816504f8-a2db-47e4-8711-a86e10c76915",
   "metadata": {},
   "source": [
    "<ul>\n",
    "    <li>Item 1</li>\n",
    "    <li>Item 2</li>\n",
    "    <li>Item 3</li>\n",
    "</ul>\n",
    "<hr>\n",
    "go to <a url=\"https://www.coursera.org/\">Coursera</a>\n"
   ]
  }
 ],
 "metadata": {
  "kernelspec": {
   "display_name": "Python",
   "language": "python",
   "name": "conda-env-python-py"
  },
  "language_info": {
   "codemirror_mode": {
    "name": "ipython",
    "version": 3
   },
   "file_extension": ".py",
   "mimetype": "text/x-python",
   "name": "python",
   "nbconvert_exporter": "python",
   "pygments_lexer": "ipython3",
   "version": "3.7.12"
  },
  "toc-autonumbering": false,
  "toc-showcode": true,
  "toc-showmarkdowntxt": false,
  "toc-showtags": true
 },
 "nbformat": 4,
 "nbformat_minor": 5
}
